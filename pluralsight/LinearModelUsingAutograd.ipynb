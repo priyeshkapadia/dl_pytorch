{
 "cells": [
  {
   "cell_type": "code",
   "execution_count": 2,
   "metadata": {},
   "outputs": [],
   "source": [
    "import numpy as np\n",
    "import matplotlib.pyplot as plt"
   ]
  },
  {
   "cell_type": "code",
   "execution_count": 4,
   "metadata": {},
   "outputs": [],
   "source": [
    "x_train = np.array([[4.7], [2.4], [7.5], [7.1], [4.3], [7.816],\n",
    "                    [8.9], [5.2], [8.59], [2.1], [8], [10], [4.5],\n",
    "                    [6], [4]],\n",
    "                   dtype = np.float32)\n",
    "\n",
    "y_train = np.array([[2.6], [1.6], [3.9], [2.4], [2.4], [3.357],\n",
    "                    [2.6], [1.96], [3.53], [1.76], [3.2], [3.5],\n",
    "                    [1.6], [2.5], [2.2]],\n",
    "                   dtype = np.float32)"
   ]
  },
  {
   "cell_type": "code",
   "execution_count": 5,
   "metadata": {},
   "outputs": [
    {
     "data": {
      "image/png": "[encoded data removed]",
      "text/plain": [
       "<Figure size 1200x800 with 1 Axes>"
      ]
     },
     "metadata": {},
     "output_type": "display_data"
    }
   ],
   "source": [
    "plt.figure(figsize=(12, 8))\n",
    "plt.scatter(x_train, y_train, label='Orignal data', s=250, c='g')\n",
    "plt.legend()\n",
    "plt.show()"
   ]
  },
  {
   "cell_type": "code",
   "execution_count": 6,
   "metadata": {},
   "outputs": [],
   "source": [
    "import torch"
   ]
  },
  {
   "cell_type": "code",
   "execution_count": 7,
   "metadata": {},
   "outputs": [],
   "source": [
    "X_train = torch.from_numpy(x_train)\n",
    "Y_train = torch.from_numpy(y_train)"
   ]
  },
  {
   "cell_type": "code",
   "execution_count": 8,
   "metadata": {},
   "outputs": [],
   "source": [
    "input_size = 1\n",
    "hidden_size = 1\n",
    "output_size = 1"
   ]
  },
  {
   "cell_type": "code",
   "execution_count": 9,
   "metadata": {},
   "outputs": [
    {
     "data": {
      "text/plain": [
       "torch.Size([1, 1])"
      ]
     },
     "execution_count": 9,
     "metadata": {},
     "output_type": "execute_result"
    }
   ],
   "source": [
    "# Need to turn on gradients for the weights as this is what we want to train\n",
    "w1 = torch.rand(input_size, hidden_size, requires_grad=True)\n",
    "w1.shape"
   ]
  },
  {
   "cell_type": "code",
   "execution_count": 10,
   "metadata": {},
   "outputs": [
    {
     "data": {
      "text/plain": [
       "torch.Size([1, 1])"
      ]
     },
     "execution_count": 10,
     "metadata": {},
     "output_type": "execute_result"
    }
   ],
   "source": [
    "w2 = torch.rand(hidden_size, output_size, requires_grad=True)\n",
    "w2.shape"
   ]
  },
  {
   "cell_type": "code",
   "execution_count": 11,
   "metadata": {},
   "outputs": [],
   "source": [
    "learning_rate = 1e-6"
   ]
  },
  {
   "cell_type": "code",
   "execution_count": 30,
   "metadata": {},
   "outputs": [
    {
     "name": "stdout",
     "output_type": "stream",
     "text": [
      "50 5.826283931732178\n",
      "100 5.7195329666137695\n",
      "150 5.6251349449157715\n",
      "200 5.541605472564697\n",
      "250 5.467635154724121\n",
      "300 5.402085781097412\n",
      "350 5.343964576721191\n",
      "400 5.292403221130371\n",
      "450 5.246631145477295\n",
      "500 5.205967903137207\n",
      "550 5.169839859008789\n",
      "600 5.137723922729492\n",
      "650 5.109157562255859\n",
      "700 5.083739280700684\n",
      "750 5.061110019683838\n",
      "800 5.0409650802612305\n",
      "850 5.0230207443237305\n",
      "900 5.007030963897705\n",
      "950 4.99277925491333\n",
      "1000 4.98007345199585\n",
      "1050 4.968742370605469\n",
      "1100 4.958633899688721\n",
      "1150 4.949614524841309\n",
      "1200 4.9415669441223145\n",
      "1250 4.934382438659668\n",
      "1300 4.927968978881836\n",
      "1350 4.922239303588867\n",
      "1400 4.9171247482299805\n",
      "1450 4.9125542640686035\n",
      "1500 4.908470630645752\n",
      "1550 4.904821395874023\n",
      "1600 4.901559829711914\n",
      "1650 4.898645401000977\n",
      "1700 4.896039962768555\n",
      "1750 4.893710613250732\n",
      "1800 4.891627788543701\n",
      "1850 4.889764308929443\n",
      "1900 4.888099193572998\n",
      "1950 4.886608600616455\n",
      "2000 4.885275363922119\n",
      "2050 4.884082794189453\n",
      "2100 4.883016109466553\n",
      "2150 4.8820624351501465\n",
      "2200 4.881207466125488\n",
      "2250 4.880444049835205\n",
      "2300 4.879759788513184\n",
      "2350 4.879148006439209\n",
      "2400 4.878598690032959\n",
      "2450 4.878108024597168\n",
      "2500 4.877669334411621\n",
      "2550 4.8772759437561035\n",
      "2600 4.876924514770508\n",
      "2650 4.8766093254089355\n",
      "2700 4.8763275146484375\n",
      "2750 4.876075267791748\n",
      "2800 4.875849723815918\n",
      "2850 4.875647068023682\n",
      "2900 4.87546443939209\n",
      "2950 4.875303268432617\n"
     ]
    }
   ],
   "source": [
    "for iter in range(1, 3000):\n",
    "    y_pred = X_train.mm(w1).mm(w2)\n",
    "    loss = (y_pred - Y_train).pow(2).sum()\n",
    "\n",
    "    if iter % 50 == 0:\n",
    "        print(iter, loss.item())\n",
    "    \n",
    "    loss.backward()\n",
    "\n",
    "    with torch.no_grad():\n",
    "        w1 -= learning_rate * w1.grad\n",
    "        w2 -= learning_rate * w2.grad\n",
    "        w1.grad.zero_()\n",
    "        w2.grad.zero_()"
   ]
  },
  {
   "cell_type": "code",
   "execution_count": 31,
   "metadata": {},
   "outputs": [
    {
     "name": "stdout",
     "output_type": "stream",
     "text": [
      "w1:  tensor([[0.5343]], requires_grad=True)\n",
      "w2:  tensor([[0.7629]], requires_grad=True)\n"
     ]
    }
   ],
   "source": [
    "print('w1: ', w1)\n",
    "print('w2: ', w2)"
   ]
  },
  {
   "cell_type": "code",
   "execution_count": 32,
   "metadata": {},
   "outputs": [
    {
     "data": {
      "text/plain": [
       "tensor([[ 4.7000],\n",
       "        [ 2.4000],\n",
       "        [ 7.5000],\n",
       "        [ 7.1000],\n",
       "        [ 4.3000],\n",
       "        [ 7.8160],\n",
       "        [ 8.9000],\n",
       "        [ 5.2000],\n",
       "        [ 8.5900],\n",
       "        [ 2.1000],\n",
       "        [ 8.0000],\n",
       "        [10.0000],\n",
       "        [ 4.5000],\n",
       "        [ 6.0000],\n",
       "        [ 4.0000]])"
      ]
     },
     "execution_count": 32,
     "metadata": {},
     "output_type": "execute_result"
    }
   ],
   "source": [
    "x_train_tensor = torch.from_numpy(x_train)\n",
    "x_train_tensor"
   ]
  },
  {
   "cell_type": "code",
   "execution_count": 33,
   "metadata": {},
   "outputs": [
    {
     "data": {
      "text/plain": [
       "tensor([[1.9158],\n",
       "        [0.9783],\n",
       "        [3.0571],\n",
       "        [2.8941],\n",
       "        [1.7527],\n",
       "        [3.1859],\n",
       "        [3.6278],\n",
       "        [2.1196],\n",
       "        [3.5014],\n",
       "        [0.8560],\n",
       "        [3.2609],\n",
       "        [4.0761],\n",
       "        [1.8343],\n",
       "        [2.4457],\n",
       "        [1.6305]], grad_fn=<MmBackward0>)"
      ]
     },
     "execution_count": 33,
     "metadata": {},
     "output_type": "execute_result"
    }
   ],
   "source": [
    "predicted_in_tensor = x_train_tensor.mm(w1).mm(w2)\n",
    "predicted_in_tensor"
   ]
  },
  {
   "cell_type": "code",
   "execution_count": 34,
   "metadata": {},
   "outputs": [
    {
     "data": {
      "text/plain": [
       "array([[1.9157898 ],\n",
       "       [0.97827566],\n",
       "       [3.0571115 ],\n",
       "       [2.8940654 ],\n",
       "       [1.752744  ],\n",
       "       [3.1859176 ],\n",
       "       [3.6277723 ],\n",
       "       [2.1195972 ],\n",
       "       [3.5014117 ],\n",
       "       [0.8559911 ],\n",
       "       [3.2609189 ],\n",
       "       [4.0761485 ],\n",
       "       [1.8342668 ],\n",
       "       [2.445689  ],\n",
       "       [1.6304594 ]], dtype=float32)"
      ]
     },
     "execution_count": 34,
     "metadata": {},
     "output_type": "execute_result"
    }
   ],
   "source": [
    "predicted = predicted_in_tensor.detach().numpy()\n",
    "predicted"
   ]
  },
  {
   "cell_type": "code",
   "execution_count": 35,
   "metadata": {},
   "outputs": [
    {
     "data": {
      "image/png": "[encoded data removed]",
      "text/plain": [
       "<Figure size 1200x800 with 1 Axes>"
      ]
     },
     "metadata": {},
     "output_type": "display_data"
    }
   ],
   "source": [
    "plt.figure(figsize=(12, 8))\n",
    "plt.scatter(x_train, y_train, label='Orignal data', s=250, c='g')\n",
    "plt.plot(x_train, predicted, label='Fitted line')\n",
    "plt.legend()\n",
    "plt.show()"
   ]
  },
  {
   "cell_type": "code",
   "execution_count": null,
   "metadata": {},
   "outputs": [],
   "source": []
  }
 ],
 "metadata": {
  "kernelspec": {
   "display_name": "Python 3.10.8 ('pytorch')",
   "language": "python",
   "name": "python3"
  },
  "language_info": {
   "codemirror_mode": {
    "name": "ipython",
    "version": 3
   },
   "file_extension": ".py",
   "mimetype": "text/x-python",
   "name": "python",
   "nbconvert_exporter": "python",
   "pygments_lexer": "ipython3",
   "version": "3.10.8"
  },
  "orig_nbformat": 4,
  "vscode": {
   "interpreter": {
    "hash": "078e199c1775a181ae99328e2b2db59019fa2e221bca472ba7f38ba9396a81ce"
   }
  }
 },
 "nbformat": 4,
 "nbformat_minor": 2
}
